{
 "cells": [
  {
   "cell_type": "code",
   "execution_count": 22,
   "id": "407a14cc-bd86-485a-8061-140f1713d323",
   "metadata": {},
   "outputs": [
    {
     "name": "stdout",
     "output_type": "stream",
     "text": [
      "Lista original: [29, 10, 14, 37, 13]\n",
      "Lista ordenada: [13, 10, 14, 29, 37]\n",
      "Maior elemento: 37\n"
     ]
    }
   ],
   "source": [
    "def selection_sort(arr):\n",
    "    for i in range(len(arr)):\n",
    "        min_idx = i\n",
    "        for j in range(i + 1, len(arr)):\n",
    "            if arr[j] < arr[min_idx]:\n",
    "                min_idx = j\n",
    "            arr[i], arr[min_idx] = arr[min_idx], arr [i]\n",
    "    return arr\n",
    "\n",
    "#Lista de exemplo\n",
    "lista = [29, 10, 14, 37, 13]\n",
    "print(\"Lista original:\", lista)\n",
    "print(\"Lista ordenada:\", selection_sort(lista))\n",
    "\n",
    "#Adicione abaixo o método (find_max(listaordenada))\n",
    "def find_max(lista):\n",
    "    return max(lista)\n",
    "    \n",
    "#exibir o maior elemento da lista ordenada\n",
    "print(\"Maior elemento:\", find_max(selection_sort(lista)))"
   ]
  },
  {
   "cell_type": "code",
   "execution_count": null,
   "id": "7d18c3b4-0677-43eb-b99f-13909d149b0c",
   "metadata": {},
   "outputs": [],
   "source": []
  }
 ],
 "metadata": {
  "kernelspec": {
   "display_name": "Python 3 (ipykernel)",
   "language": "python",
   "name": "python3"
  },
  "language_info": {
   "codemirror_mode": {
    "name": "ipython",
    "version": 3
   },
   "file_extension": ".py",
   "mimetype": "text/x-python",
   "name": "python",
   "nbconvert_exporter": "python",
   "pygments_lexer": "ipython3",
   "version": "3.12.4"
  }
 },
 "nbformat": 4,
 "nbformat_minor": 5
}
